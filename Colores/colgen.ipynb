{
 "cells": [
  {
   "cell_type": "code",
   "execution_count": 5,
   "metadata": {},
   "outputs": [],
   "source": [
    "import numpy as np\n",
    "import pandas as pd\n",
    "import xlsxwriter as xw\n",
    "import subprocess as sbp\n",
    "import matplotlib.colors as mcolors\n",
    "import matplotlib.pyplot as plt"
   ]
  },
  {
   "cell_type": "code",
   "execution_count": 6,
   "metadata": {},
   "outputs": [],
   "source": [
    "def create_style(cmd,cor,z):\n",
    "    #==================================================================================\n",
    "    sbp.call('grads -bcp \"%s %s -v\"'%(cmd,cor),shell=True,stdout=sbp.DEVNULL)\n",
    "    # Read text data \n",
    "    f = open('data.txt'); lines = f.readlines(); f.close()\n",
    "    # Get levels\n",
    "    levs = lines[0].replace(\"\\n\", \"\").split(' ')[3:]\n",
    "    levs = [float(x) for x in levs]\n",
    "    #==================================================================================\n",
    "    # Getting colors\n",
    "    data = []\n",
    "    for i,ll in enumerate(lines[2:]):\n",
    "        ll = ll.replace(\"\\n\", \"\").split(' : ')[-1][1:-1]\n",
    "        ll = [int(x) for x in ll.split(',')]\n",
    "        r,g,b = ll[0], ll[1], ll[2]\n",
    "        html = '#%02x%02x%02x'%(r,g,b)\n",
    "        if i == 0:\n",
    "            data.append([i+1,r,g,b,html,z,'%d'%levs[i]])\n",
    "        elif i == len(levs) :\n",
    "            data.append([i+1,r,g,b,html,z,'%d'%levs[i-1]])\n",
    "        else:\n",
    "            data.append([i+1,r,g,b,html,z,'%d - %d'%(levs[i-1],levs[i])])        \n",
    "    #==================================================================================\n",
    "    return data\n",
    "    \n",
    "def export_table(name,var,data):\n",
    "    wbk = xw.Workbook(name)\n",
    "    wst = wbk.add_worksheet(var)\n",
    "    cl=['A','B','C','D','E','F','G']\n",
    "    tt=['N','R','G','B','RGB','Lev','Rango']\n",
    "    fmt = wbk.add_format({'bold': True})\n",
    "    fmt.set_border(1)\n",
    "    fmt.set_align('center')\n",
    "    # Printing title\n",
    "    for c,t in zip(cl,tt): \n",
    "        wst.write('%s1'%c,t,fmt)\n",
    "    #=================================================================================\n",
    "    # Print every color\n",
    "    nn = wbk.add_format({'border':1})\n",
    "    for j,dd in enumerate(data):\n",
    "        for i,d in enumerate(dd):\n",
    "            try: \n",
    "                d.index('#')\n",
    "                wst.write('%s%d'%(cl[i],j+2),' ',wbk.add_format({'bg_color':d,\n",
    "                                                                    'border':1}))\n",
    "            except:\n",
    "                wst.write('%s%d'%(cl[i],j+2),d,nn)\n",
    "    wbk.close()"
   ]
  },
  {
   "cell_type": "code",
   "execution_count": 13,
   "metadata": {},
   "outputs": [],
   "source": [
    "cor = 'white->yellow->red->purple'\n",
    "\n",
    "#==============================================================================\n",
    "zz = [[1000,'color 4 7 0.5 -kind']]\n",
    "#==============================================================================\n",
    "data = []\n",
    "for z in zz:\n",
    "    data.extend(create_style(z[1],cor,z[0]))\n",
    "export_table('rmix.xlsx','550',data)"
   ]
  },
  {
   "cell_type": "code",
   "execution_count": null,
   "metadata": {},
   "outputs": [],
   "source": []
  }
 ],
 "metadata": {
  "interpreter": {
   "hash": "31f2aee4e71d21fbe5cf8b01ff0e069b9275f58929596ceb00d14d90e3e16cd6"
  },
  "kernelspec": {
   "display_name": "Python 3.8.10 64-bit",
   "language": "python",
   "name": "python3"
  },
  "language_info": {
   "codemirror_mode": {
    "name": "ipython",
    "version": 3
   },
   "file_extension": ".py",
   "mimetype": "text/x-python",
   "name": "python",
   "nbconvert_exporter": "python",
   "pygments_lexer": "ipython3",
   "version": "3.8.10"
  },
  "orig_nbformat": 4
 },
 "nbformat": 4,
 "nbformat_minor": 2
}
